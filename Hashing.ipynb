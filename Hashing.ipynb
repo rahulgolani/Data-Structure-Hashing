{
 "cells": [
  {
   "cell_type": "markdown",
   "metadata": {},
   "source": [
    "# BASICS"
   ]
  },
  {
   "cell_type": "markdown",
   "metadata": {},
   "source": [
    "# Index Mapping (or Trivial Hashing) with negatives allowed"
   ]
  },
  {
   "cell_type": "markdown",
   "metadata": {},
   "source": [
    "Given a limited range array contains both positive and non-positive numbers, i.e., elements are in the range from -MAX to +MAX. Our task is to search if some number is present in the array or not in O(1) time."
   ]
  },
  {
   "cell_type": "code",
   "execution_count": 1,
   "metadata": {},
   "outputs": [
    {
     "name": "stdout",
     "output_type": "stream",
     "text": [
      "True\n"
     ]
    }
   ],
   "source": [
    "# INDEX MAPPING/TRIVIAL MAPPING\n",
    "\n",
    "def insert(hash,value):\n",
    "    if value>=0:\n",
    "        hash[value][0]=1\n",
    "    else:\n",
    "        hash[abs(value)][1]=1\n",
    "\n",
    "def search(hash,value):\n",
    "    if value>=0:\n",
    "        return hash[value][0]==1\n",
    "    return hash[abs(value)][1]==1\n",
    "\n",
    "\n",
    "if __name__ == '__main__':\n",
    "    arr=[-1, 9, -5, -8, -5, -2]\n",
    "    hash=[[0 for j in range(2)]for i in range(1000)]\n",
    "    for i in arr:\n",
    "        insert(hash,i)\n",
    "    x=-5\n",
    "    print(search(hash,x))\n"
   ]
  },
  {
   "cell_type": "markdown",
   "metadata": {},
   "source": [
    "# Chaining - Handling Collisions"
   ]
  },
  {
   "cell_type": "markdown",
   "metadata": {},
   "source": [
    "Two keys having same hash values is called collision"
   ]
  },
  {
   "cell_type": "markdown",
   "metadata": {},
   "source": [
    "The idea is to make each cell of hash table point to a linked list of records that have same hash function value. "
   ]
  },
  {
   "cell_type": "code",
   "execution_count": 2,
   "metadata": {},
   "outputs": [
    {
     "name": "stdout",
     "output_type": "stream",
     "text": [
      "0\n",
      "700 \n",
      "\n",
      "1\n",
      "50 85 92 \n",
      "\n",
      "2\n",
      "\n",
      "\n",
      "3\n",
      "73 101 \n",
      "\n",
      "4\n",
      "\n",
      "\n",
      "5\n",
      "\n",
      "\n",
      "6\n",
      "76 \n",
      "\n",
      "\n",
      "\n",
      "\n",
      "Element Found\n"
     ]
    }
   ],
   "source": [
    "# SEPARATE CHAINING FOR COLLISION HANDLING\n",
    "\n",
    "class Node:\n",
    "    def __init__(self,data):\n",
    "        self.data=data\n",
    "        self.next=None\n",
    "\n",
    "def insert(arr,value):\n",
    "    index=value%7\n",
    "    if arr[index] is None:\n",
    "        arr[index]=Node(value)\n",
    "        # return\n",
    "    else:\n",
    "        temp=arr[index]\n",
    "        while temp.next:\n",
    "            temp=temp.next\n",
    "        temp.next=Node(value)\n",
    "\n",
    "def traverseLinkedList(head):\n",
    "    temp=head\n",
    "    while temp:\n",
    "        print(temp.data,end=\" \")\n",
    "        temp=temp.next\n",
    "    print(\"\\n\")\n",
    "\n",
    "def traverseHashTable(arr):\n",
    "    for i in range(len(arr)):\n",
    "        print(i)\n",
    "        traverseLinkedList(arr[i])\n",
    "\n",
    "def searchLinkedList(head,value):\n",
    "    if head is None:\n",
    "        return False\n",
    "    temp=head\n",
    "    while temp:\n",
    "        if temp.data==value:\n",
    "            return True\n",
    "        temp=temp.next\n",
    "    return False\n",
    "\n",
    "def searchValue(arr,value):\n",
    "    index=value%7\n",
    "    return searchLinkedList(arr[index],value)\n",
    "\n",
    "if __name__ == '__main__':\n",
    "    values=[50, 700, 76, 85, 92, 73, 101]\n",
    "    arr=[None]*(len(values))\n",
    "    for i in values:\n",
    "        insert(arr,i)\n",
    "    traverseHashTable(arr)\n",
    "    print(\"\\n\\n\")\n",
    "    print(\"Element Found\" if searchValue(arr,85) else \"Element Not Found\")\n"
   ]
  },
  {
   "cell_type": "markdown",
   "metadata": {},
   "source": [
    "# Open Addressing | Collision Handling "
   ]
  },
  {
   "cell_type": "markdown",
   "metadata": {},
   "source": [
    "In Open Addressing, all elements are stored in the hash table itself. So at any point, the size of the table must be greater than or equal to the total number of keys (Note that we can increase table size by copying old data if needed). \n",
    "\n",
    "Insert(k): Keep probing until an empty slot is found. Once an empty slot is found, insert k. \n",
    "\n",
    "Search(k): Keep probing until slot’s key doesn’t become equal to k or an empty slot is reached. \n",
    "\n",
    "Delete(k): Delete operation is interesting. If we simply delete a key, then the search may fail. So slots of deleted keys are marked specially as “deleted”. \n",
    "\n",
    "The insert can insert an item in a deleted slot, but the search doesn’t stop at a deleted slot. \n",
    "\n",
    "Open Addressing is done in the following ways: \n",
    "\n",
    "**Linear Probing**\n",
    "\n",
    "**Quadratic Probing**\n",
    "\n",
    "**Double Hashing**"
   ]
  },
  {
   "cell_type": "code",
   "execution_count": null,
   "metadata": {},
   "outputs": [],
   "source": []
  }
 ],
 "metadata": {
  "kernelspec": {
   "display_name": "Python 3",
   "language": "python",
   "name": "python3"
  },
  "language_info": {
   "codemirror_mode": {
    "name": "ipython",
    "version": 3
   },
   "file_extension": ".py",
   "mimetype": "text/x-python",
   "name": "python",
   "nbconvert_exporter": "python",
   "pygments_lexer": "ipython3",
   "version": "3.7.6"
  }
 },
 "nbformat": 4,
 "nbformat_minor": 4
}
