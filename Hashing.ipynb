{
 "cells": [
  {
   "cell_type": "markdown",
   "metadata": {},
   "source": [
    "# BASICS"
   ]
  },
  {
   "cell_type": "markdown",
   "metadata": {},
   "source": [
    "# Index Mapping (or Trivial Hashing) with negatives allowed"
   ]
  },
  {
   "cell_type": "markdown",
   "metadata": {},
   "source": [
    "Given a limited range array contains both positive and non-positive numbers, i.e., elements are in the range from -MAX to +MAX. Our task is to search if some number is present in the array or not in O(1) time."
   ]
  },
  {
   "cell_type": "code",
   "execution_count": 1,
   "metadata": {},
   "outputs": [
    {
     "name": "stdout",
     "output_type": "stream",
     "text": [
      "True\n"
     ]
    }
   ],
   "source": [
    "# INDEX MAPPING/TRIVIAL MAPPING\n",
    "\n",
    "def insert(hash,value):\n",
    "    if value>=0:\n",
    "        hash[value][0]=1\n",
    "    else:\n",
    "        hash[abs(value)][1]=1\n",
    "\n",
    "def search(hash,value):\n",
    "    if value>=0:\n",
    "        return hash[value][0]==1\n",
    "    return hash[abs(value)][1]==1\n",
    "\n",
    "\n",
    "if __name__ == '__main__':\n",
    "    arr=[-1, 9, -5, -8, -5, -2]\n",
    "    hash=[[0 for j in range(2)]for i in range(1000)]\n",
    "    for i in arr:\n",
    "        insert(hash,i)\n",
    "    x=-5\n",
    "    print(search(hash,x))\n"
   ]
  },
  {
   "cell_type": "markdown",
   "metadata": {},
   "source": [
    "# Chaining - Handling Collisions"
   ]
  },
  {
   "cell_type": "markdown",
   "metadata": {},
   "source": [
    "Two keys having same hash values is called collision"
   ]
  },
  {
   "cell_type": "markdown",
   "metadata": {},
   "source": [
    "The idea is to make each cell of hash table point to a linked list of records that have same hash function value. "
   ]
  },
  {
   "cell_type": "code",
   "execution_count": 2,
   "metadata": {},
   "outputs": [
    {
     "name": "stdout",
     "output_type": "stream",
     "text": [
      "0\n",
      "700 \n",
      "\n",
      "1\n",
      "50 85 92 \n",
      "\n",
      "2\n",
      "\n",
      "\n",
      "3\n",
      "73 101 \n",
      "\n",
      "4\n",
      "\n",
      "\n",
      "5\n",
      "\n",
      "\n",
      "6\n",
      "76 \n",
      "\n",
      "\n",
      "\n",
      "\n",
      "Element Found\n"
     ]
    }
   ],
   "source": [
    "# SEPARATE CHAINING FOR COLLISION HANDLING\n",
    "\n",
    "class Node:\n",
    "    def __init__(self,data):\n",
    "        self.data=data\n",
    "        self.next=None\n",
    "\n",
    "def insert(arr,value):\n",
    "    index=value%7\n",
    "    if arr[index] is None:\n",
    "        arr[index]=Node(value)\n",
    "        # return\n",
    "    else:\n",
    "        temp=arr[index]\n",
    "        while temp.next:\n",
    "            temp=temp.next\n",
    "        temp.next=Node(value)\n",
    "\n",
    "def traverseLinkedList(head):\n",
    "    temp=head\n",
    "    while temp:\n",
    "        print(temp.data,end=\" \")\n",
    "        temp=temp.next\n",
    "    print(\"\\n\")\n",
    "\n",
    "def traverseHashTable(arr):\n",
    "    for i in range(len(arr)):\n",
    "        print(i)\n",
    "        traverseLinkedList(arr[i])\n",
    "\n",
    "def searchLinkedList(head,value):\n",
    "    if head is None:\n",
    "        return False\n",
    "    temp=head\n",
    "    while temp:\n",
    "        if temp.data==value:\n",
    "            return True\n",
    "        temp=temp.next\n",
    "    return False\n",
    "\n",
    "def searchValue(arr,value):\n",
    "    index=value%7\n",
    "    return searchLinkedList(arr[index],value)\n",
    "\n",
    "if __name__ == '__main__':\n",
    "    values=[50, 700, 76, 85, 92, 73, 101]\n",
    "    arr=[None]*(len(values))\n",
    "    for i in values:\n",
    "        insert(arr,i)\n",
    "    traverseHashTable(arr)\n",
    "    print(\"\\n\\n\")\n",
    "    print(\"Element Found\" if searchValue(arr,85) else \"Element Not Found\")\n"
   ]
  },
  {
   "cell_type": "markdown",
   "metadata": {},
   "source": [
    "# Open Addressing | Collision Handling "
   ]
  },
  {
   "cell_type": "markdown",
   "metadata": {},
   "source": [
    "In Open Addressing, all elements are stored in the hash table itself. So at any point, the size of the table must be greater than or equal to the total number of keys (Note that we can increase table size by copying old data if needed). \n",
    "\n",
    "Insert(k): Keep probing until an empty slot is found. Once an empty slot is found, insert k. \n",
    "\n",
    "Search(k): Keep probing until slot’s key doesn’t become equal to k or an empty slot is reached. \n",
    "\n",
    "Delete(k): Delete operation is interesting. If we simply delete a key, then the search may fail. So slots of deleted keys are marked specially as “deleted”. \n",
    "\n",
    "The insert can insert an item in a deleted slot, but the search doesn’t stop at a deleted slot. \n",
    "\n",
    "Open Addressing is done in the following ways: \n",
    "\n",
    "**Linear Probing**\n",
    "\n",
    "**Quadratic Probing**\n",
    "\n",
    "**Double Hashing**"
   ]
  },
  {
   "cell_type": "markdown",
   "metadata": {},
   "source": [
    "# Load Factor and Rehashing"
   ]
  },
  {
   "cell_type": "markdown",
   "metadata": {},
   "source": [
    "**How hashing works:**\n",
    "\n",
    "For insertion of a key(K) – value(V) pair into a hash map, 2 steps are required:\n",
    "\n",
    "1) K is converted into a small integer (called its hash code) using a hash function.\n",
    "\n",
    "2) The hash code is used to find an index (hashCode % arrSize) and the entire linked list at that index(Separate chaining) is first searched for the presence of the K already.\n",
    "\n",
    "3) If found, it’s value is updated and if not, the K-V pair is stored as a new node in the list.\n",
    "\n",
    "**Complexity and Load Factor**\n",
    "\n",
    "For the first step, time taken depends on the K and the hash function.\n",
    "For example, if the key is a string “abcd”, then it’s hash function may depend on the length of the string. But for very large values of n, the number of entries into the map, length of the keys is almost negligible in comparison to n so hash computation can be considered to take place in constant time, i.e, O(1).\n",
    "\n",
    "For the second step, traversal of the list of K-V pairs present at that index needs to be done. For this, the worst case may be that all the n entries are at the same index. So, time complexity would be O(n). But, enough research has been done to make hash functions uniformly distribute the keys in the array so this almost never happens.\n",
    "\n",
    "So, on an average, **if there are n entries and b is the size of the array there would be n/b entries on each index. This value n/b is called the load factor that represents the load that is there on our map.**\n",
    "\n",
    "This **Load Factor needs to be kept low, so that number of entries at one index is less and so is the complexity almost constant, i.e., O(1).**"
   ]
  },
  {
   "cell_type": "markdown",
   "metadata": {},
   "source": [
    "**Rehashing:**\n",
    "    \n",
    "Basically, when the load factor increases to more than its pre-defined value (default value of load factor is 0.75), the complexity increases. So to overcome this, the size of the array is increased (doubled) and all the values are hashed again and stored in the new double sized array to maintain a low load factor and low complexity.\n",
    "\n"
   ]
  },
  {
   "cell_type": "markdown",
   "metadata": {},
   "source": [
    "# EASY PROBLEMS"
   ]
  },
  {
   "cell_type": "markdown",
   "metadata": {},
   "source": [
    "# Print a Binary Tree in Vertical Order"
   ]
  },
  {
   "cell_type": "markdown",
   "metadata": {},
   "source": [
    "Approach -> map based "
   ]
  },
  {
   "cell_type": "code",
   "execution_count": 3,
   "metadata": {},
   "outputs": [
    {
     "name": "stdout",
     "output_type": "stream",
     "text": [
      "4\n",
      "2\n",
      "1 5 6\n",
      "3 8\n",
      "7\n",
      "9\n"
     ]
    }
   ],
   "source": [
    "class Node:\n",
    "    def __init__(self,data):\n",
    "        self.data=data\n",
    "        self.left=None\n",
    "        self.right=None\n",
    "\n",
    "def getVerticalTreeUtil(root,map,currLevel):\n",
    "    if root is None:\n",
    "        return\n",
    "    if currLevel in map:\n",
    "        map[currLevel].append(root.data)\n",
    "    else:\n",
    "        map[currLevel]=[root.data]\n",
    "    getVerticalTreeUtil(root.left,map,currLevel-1)\n",
    "    getVerticalTreeUtil(root.right,map,currLevel+1)\n",
    "\n",
    "def getVerticalTree(root):\n",
    "    hash={}\n",
    "    getVerticalTreeUtil(root,hash,0)\n",
    "    for key,value in enumerate(sorted(hash)):\n",
    "        print(\" \".join(map(str,hash[value])))\n",
    "\n",
    "if __name__ == '__main__':\n",
    "    root=Node(1)\n",
    "    root.left=Node(2)\n",
    "    root.right=Node(3)\n",
    "    root.left.left=Node(4)\n",
    "    root.left.right=Node(5)\n",
    "    root.right.left=Node(6)\n",
    "    root.right.right=Node(7)\n",
    "    root.right.right.left=Node(8)\n",
    "    root.right.right.right=Node(9)\n",
    "    getVerticalTree(root)\n"
   ]
  },
  {
   "cell_type": "markdown",
   "metadata": {},
   "source": [
    "Time Complexity O(n)"
   ]
  },
  {
   "cell_type": "markdown",
   "metadata": {},
   "source": [
    "# Find whether an array is subset of another array"
   ]
  },
  {
   "cell_type": "markdown",
   "metadata": {},
   "source": [
    "Approach 1-> For every element in array 2 search if it is present in array 1. (Linear Search). Time Complexity O(n*n)"
   ]
  },
  {
   "cell_type": "markdown",
   "metadata": {},
   "source": [
    "Approach 2-> Sort Array 1, for each element in array2, search if it is there in array1. (Binary Search) Time Complexity O(nlogn + mlogn)"
   ]
  },
  {
   "cell_type": "markdown",
   "metadata": {},
   "source": [
    "Approach 3-> Sorting both the arrays and then using the merge method to check if the array is the subset or not"
   ]
  },
  {
   "cell_type": "code",
   "execution_count": 4,
   "metadata": {},
   "outputs": [
    {
     "name": "stdout",
     "output_type": "stream",
     "text": [
      "True\n",
      "True\n"
     ]
    }
   ],
   "source": [
    "def isSubset(arr1,arr2):\n",
    "    n=len(arr1)\n",
    "    m=len(arr2)\n",
    "    arr1.sort()\n",
    "    arr2.sort()\n",
    "\n",
    "    i=0;j=0\n",
    "    while i<n and j<m:\n",
    "        if arr1[i]<arr2[j]:\n",
    "            i+=1\n",
    "        elif arr1[i]==arr2[j]:\n",
    "            i+=1\n",
    "            j+=1\n",
    "        else:\n",
    "            return False\n",
    "    return False if j<m else True\n",
    "\n",
    "if __name__ == '__main__':\n",
    "    arr1=[11, 1, 13, 21, 3, 7]\n",
    "    arr2=[11, 3, 7, 1]\n",
    "    print(isSubset(arr1,arr2))\n",
    "    arr1=[1,2,3,4,5,6]\n",
    "    arr2=[1,2,4]\n",
    "    print(isSubset(arr1,arr2))\n"
   ]
  },
  {
   "cell_type": "markdown",
   "metadata": {},
   "source": [
    "Time Complexity O(nlogn+mlogm)"
   ]
  },
  {
   "cell_type": "markdown",
   "metadata": {},
   "source": [
    "Approach 4->Hashing"
   ]
  },
  {
   "cell_type": "markdown",
   "metadata": {},
   "source": [
    "Approach 5-> Using Set-> Insert all elements of array in set, then insert all the elements of array 2,in set, if the size of set is same as before, return true else return false"
   ]
  },
  {
   "cell_type": "markdown",
   "metadata": {},
   "source": [
    "Approach 6-> Use Frequency Table (In case the elements are not distinct)"
   ]
  },
  {
   "cell_type": "markdown",
   "metadata": {},
   "source": [
    "# Union and Intersection of two linked lists"
   ]
  },
  {
   "cell_type": "markdown",
   "metadata": {},
   "source": [
    "Use set for finding the union and hashmapfor finding the intersection"
   ]
  },
  {
   "cell_type": "code",
   "execution_count": 5,
   "metadata": {},
   "outputs": [
    {
     "name": "stdout",
     "output_type": "stream",
     "text": [
      "10 15 4 20 \n",
      "\n",
      "8 4 2 10 \n",
      "\n",
      "20 15 10 8 4 2 \n",
      "\n",
      "10 4 \n",
      "\n"
     ]
    }
   ],
   "source": [
    "class Node:\n",
    "    def __init__(self,data):\n",
    "        self.data=data\n",
    "        self.next=None\n",
    "\n",
    "class LinkedList:\n",
    "    def __init__(self):\n",
    "        self.head = None\n",
    "\n",
    "    def push(self,key):\n",
    "        if self.head is None:\n",
    "            self.head=Node(key)\n",
    "            return\n",
    "        temp=Node(key)\n",
    "        temp.next=self.head\n",
    "        self.head=temp\n",
    "\n",
    "    def traverse(self):\n",
    "        if self.head is None:\n",
    "            print(\"List Empty\")\n",
    "            return\n",
    "        temp=self.head\n",
    "        while temp:\n",
    "            print(temp.data,end=\" \")\n",
    "            temp=temp.next\n",
    "        print(\"\\n\")\n",
    "\n",
    "def getUnionList(list1,list2):\n",
    "    setHash=set()\n",
    "    temp=list1.head\n",
    "    while temp:\n",
    "        setHash.add(temp.data)\n",
    "        temp=temp.next\n",
    "    temp=list2.head\n",
    "    while temp:\n",
    "        setHash.add(temp.data)\n",
    "        temp=temp.next\n",
    "    unionList=LinkedList()\n",
    "    for i in setHash:\n",
    "        unionList.push(i)\n",
    "    return unionList\n",
    "\n",
    "def getIntersectionList(list1,list2):\n",
    "    hash={}\n",
    "    temp=list1.head\n",
    "    while temp:\n",
    "        hash[temp.data]=1\n",
    "        temp=temp.next\n",
    "    intersectionList=LinkedList()\n",
    "    temp=list2.head\n",
    "    while temp:\n",
    "        if temp.data in hash:\n",
    "            intersectionList.push(temp.data)\n",
    "        temp=temp.next\n",
    "    return intersectionList\n",
    "\n",
    "\n",
    "\n",
    "if __name__ == '__main__':\n",
    "    llist1=LinkedList()\n",
    "    llist1.push(20)\n",
    "    llist1.push(4)\n",
    "    llist1.push(15)\n",
    "    llist1.push(10)\n",
    "    llist1.traverse()\n",
    "    llist2=LinkedList()\n",
    "    llist2.push(10)\n",
    "    llist2.push(2)\n",
    "    llist2.push(4)\n",
    "    llist2.push(8)\n",
    "    llist2.traverse()\n",
    "    unionList=getUnionList(llist1,llist2)\n",
    "    unionList.traverse()\n",
    "    intersectionList=getIntersectionList(llist1,llist2)\n",
    "    intersectionList.traverse()\n"
   ]
  },
  {
   "cell_type": "markdown",
   "metadata": {},
   "source": [
    "# Given an array A[] and a number x, check for pair in A[] with sum as x"
   ]
  },
  {
   "cell_type": "markdown",
   "metadata": {},
   "source": [
    "Approach 1-> Use hashing"
   ]
  },
  {
   "cell_type": "markdown",
   "metadata": {},
   "source": [
    "Approach 2-> Sorting and Use Two Pointer approach"
   ]
  },
  {
   "cell_type": "markdown",
   "metadata": {},
   "source": [
    "# Minimum delete operations to make all elements of array same"
   ]
  },
  {
   "cell_type": "markdown",
   "metadata": {},
   "source": [
    "Given an array of n elements such that elements may repeat. We can delete any number of elements from the array. The task is to find a minimum number of elements to be deleted from the array to make it equal."
   ]
  },
  {
   "cell_type": "markdown",
   "metadata": {},
   "source": [
    "Approach-> In this problem, we need to minimize the delete operations. The approach is simple, we count the frequency of each element in an array, then find the frequency of the most frequent elements in count array. Let this frequency be max_freq. To get the minimum number of elements to be deleted from the array calculate n – max_freq where n is a number of elements in the given array."
   ]
  },
  {
   "cell_type": "markdown",
   "metadata": {},
   "source": [
    "Time Complexity O(n)"
   ]
  },
  {
   "cell_type": "markdown",
   "metadata": {},
   "source": [
    "# Minimum operation to make all elements equal in array"
   ]
  },
  {
   "cell_type": "markdown",
   "metadata": {},
   "source": [
    "Given an array with n positive integers. We need to find the minimum number of operation to make all elements equal. We can perform addition, multiplication, subtraction or division with any element on an array element. "
   ]
  },
  {
   "cell_type": "markdown",
   "metadata": {},
   "source": [
    "Approach-> We can fix a target value and then perform the operations on the remaining elements. So we can find the element with the max frequency and then result is n-x"
   ]
  },
  {
   "cell_type": "markdown",
   "metadata": {},
   "source": [
    "Time Complexity O(n)"
   ]
  },
  {
   "cell_type": "markdown",
   "metadata": {},
   "source": [
    "# Maximum distance between two occurrences of same element in array"
   ]
  },
  {
   "cell_type": "markdown",
   "metadata": {},
   "source": [
    "Approach-> Use hashing, store the first index of a element in the hash map. Traverse the array and check for the maxDistance"
   ]
  },
  {
   "cell_type": "code",
   "execution_count": 6,
   "metadata": {},
   "outputs": [
    {
     "name": "stdout",
     "output_type": "stream",
     "text": [
      "10\n"
     ]
    }
   ],
   "source": [
    "def getMaxDistance(arr):\n",
    "    hash={}\n",
    "    maxDistance=float('-infinity')\n",
    "    for i in range(len(arr)):\n",
    "        if arr[i] in hash:\n",
    "            maxDistance=max(maxDistance,i-hash[arr[i]])\n",
    "        else:\n",
    "            hash[arr[i]]=i\n",
    "    return maxDistance\n",
    "\n",
    "if __name__ == '__main__':\n",
    "    arr=[3, 2, 1, 2, 1, 4, 5, 8, 6, 7, 4, 2]\n",
    "    print(getMaxDistance(arr))\n"
   ]
  },
  {
   "cell_type": "markdown",
   "metadata": {},
   "source": [
    "Time Complexity O(n)"
   ]
  },
  {
   "cell_type": "markdown",
   "metadata": {},
   "source": [
    "# Count maximum points on same line"
   ]
  },
  {
   "cell_type": "markdown",
   "metadata": {},
   "source": [
    "todo"
   ]
  },
  {
   "cell_type": "markdown",
   "metadata": {},
   "source": [
    "# Check if a given array contains duplicate elements within k distance from each other"
   ]
  },
  {
   "cell_type": "markdown",
   "metadata": {},
   "source": [
    "Approach -> Hashing; Traverse array and keep storing the index of element if same element is found at a distance less than equal to k return true; else update the last distance of the element"
   ]
  },
  {
   "cell_type": "code",
   "execution_count": 1,
   "metadata": {},
   "outputs": [
    {
     "name": "stdout",
     "output_type": "stream",
     "text": [
      "False\n",
      "True\n",
      "False\n",
      "True\n"
     ]
    }
   ],
   "source": [
    "def ifDuplicatesWithinReach(arr,k):\n",
    "    n=len(arr)\n",
    "    hash={}\n",
    "    for i in range(n):\n",
    "        if arr[i] in hash:\n",
    "            if i-hash[arr[i]]<=k:\n",
    "                return True\n",
    "            hash[arr[i]]=i\n",
    "        else:\n",
    "            hash[arr[i]]=i\n",
    "    return False\n",
    "\n",
    "if __name__ == '__main__':\n",
    "    arr=[1, 2, 3, 4, 1, 2, 3, 4]\n",
    "    k=3\n",
    "    print(ifDuplicatesWithinReach(arr,k))\n",
    "    arr=[1, 2, 3, 1, 4, 5]\n",
    "    k=3\n",
    "    print(ifDuplicatesWithinReach(arr,k))\n",
    "    arr=[1, 2, 3, 4, 5]\n",
    "    k=3\n",
    "    print(ifDuplicatesWithinReach(arr,k))\n",
    "    arr=[1, 2, 3, 4, 4]\n",
    "    k=3\n",
    "    print(ifDuplicatesWithinReach(arr,k))\n"
   ]
  },
  {
   "cell_type": "markdown",
   "metadata": {},
   "source": [
    "Time Complexity O(n)"
   ]
  },
  {
   "cell_type": "markdown",
   "metadata": {},
   "source": [
    "# Find duplicates in a given array when elements are not limited to a range"
   ]
  },
  {
   "cell_type": "markdown",
   "metadata": {},
   "source": [
    "Approach -> Hashing"
   ]
  },
  {
   "cell_type": "code",
   "execution_count": 2,
   "metadata": {},
   "outputs": [
    {
     "name": "stdout",
     "output_type": "stream",
     "text": [
      "2 10 11 \n",
      "\n",
      "5 40 1 \n",
      "\n"
     ]
    }
   ],
   "source": [
    "def findDuplicates(arr):\n",
    "    n=len(arr)\n",
    "    hash={}\n",
    "    for i in range(n):\n",
    "        if arr[i] in hash:\n",
    "            hash[arr[i]]+=1\n",
    "        else:\n",
    "            hash[arr[i]]=1\n",
    "    for i in hash:\n",
    "        if hash[i]>1:\n",
    "            print(i,end=\" \")\n",
    "    print('\\n')\n",
    "\n",
    "if __name__ == '__main__':\n",
    "    arr=[2, 10,10, 100, 2, 10, 11,2,11,2]\n",
    "    findDuplicates(arr)\n",
    "    arr=[5, 40, 1, 40, 100000, 1, 5, 1]\n",
    "    findDuplicates(arr)\n"
   ]
  },
  {
   "cell_type": "markdown",
   "metadata": {},
   "source": [
    "Time Complexity O(n)"
   ]
  },
  {
   "cell_type": "markdown",
   "metadata": {},
   "source": [
    "# Find top k (or most frequent) numbers in a stream"
   ]
  },
  {
   "cell_type": "markdown",
   "metadata": {},
   "source": [
    "Approach -> Heap + Hashing"
   ]
  },
  {
   "cell_type": "code",
   "execution_count": 3,
   "metadata": {},
   "outputs": [
    {
     "name": "stdout",
     "output_type": "stream",
     "text": [
      "After Reading 0th element 5\n",
      "5 -> 1\n",
      "After Reading 1th element 2\n",
      "5 -> 1\n",
      "2 -> 1\n",
      "After Reading 2th element 1\n",
      "5 -> 1\n",
      "2 -> 1\n",
      "1 -> 1\n",
      "After Reading 3th element 3\n",
      "5 -> 1\n",
      "2 -> 1\n",
      "1 -> 1\n",
      "3 -> 1\n",
      "After Reading 4th element 4\n",
      "1 -> 1\n",
      "2 -> 1\n",
      "5 -> 1\n",
      "3 -> 1\n",
      "After Reading 5th element 6\n",
      "1 -> 1\n",
      "2 -> 1\n",
      "5 -> 1\n",
      "3 -> 1\n",
      "After Reading 6th element 6\n",
      "2 -> 1\n",
      "3 -> 1\n",
      "5 -> 1\n",
      "6 -> 2\n",
      "After Reading 7th element 6\n",
      "2 -> 1\n",
      "3 -> 1\n",
      "5 -> 1\n",
      "6 -> 3\n",
      "After Reading 8th element 6\n",
      "2 -> 1\n",
      "3 -> 1\n",
      "5 -> 1\n",
      "6 -> 4\n",
      "After Reading 9th element 7\n",
      "2 -> 1\n",
      "3 -> 1\n",
      "5 -> 1\n",
      "6 -> 4\n",
      "After Reading 10th element 7\n",
      "3 -> 1\n",
      "7 -> 2\n",
      "5 -> 1\n",
      "6 -> 4\n",
      "After Reading 11th element 7\n",
      "3 -> 1\n",
      "7 -> 3\n",
      "5 -> 1\n",
      "6 -> 4\n",
      "After Reading 12th element 7\n",
      "3 -> 1\n",
      "7 -> 4\n",
      "5 -> 1\n",
      "6 -> 4\n",
      "After Reading 13th element 4\n",
      "5 -> 1\n",
      "7 -> 4\n",
      "4 -> 2\n",
      "6 -> 4\n",
      "After Reading 14th element 3\n",
      "3 -> 2\n",
      "7 -> 4\n",
      "4 -> 2\n",
      "6 -> 4\n",
      "After Reading 15th element 1\n",
      "3 -> 2\n",
      "7 -> 4\n",
      "4 -> 2\n",
      "6 -> 4\n",
      "After Reading 16th element 1\n",
      "4 -> 2\n",
      "7 -> 4\n",
      "1 -> 3\n",
      "6 -> 4\n"
     ]
    }
   ],
   "source": [
    "class Node:\n",
    "    def __init__(self,data,freq):\n",
    "        self.data=data\n",
    "        self.freq=freq\n",
    "\n",
    "def heapify(heapArr,i,n):\n",
    "    # MINHEAP\n",
    "    left=2*i+1\n",
    "    right=2*i+2\n",
    "    if left<n:\n",
    "        if heapArr[left].freq!=heapArr[i].freq:\n",
    "            if heapArr[left].freq<heapArr[i].freq:\n",
    "                smallest=left\n",
    "            else:\n",
    "                smallest=i\n",
    "        else:\n",
    "            if heapArr[left].data<heapArr[i].data:\n",
    "                smallest=left\n",
    "            else:\n",
    "                smallest=i\n",
    "    else:\n",
    "        smallest=i\n",
    "    if right<n:\n",
    "        if heapArr[right].freq!=heapArr[smallest].freq:\n",
    "            if heapArr[right].freq<heapArr[smallest].freq:\n",
    "                smallest=right\n",
    "        else:\n",
    "            if heapArr[right].data<heapArr[smallest].data:\n",
    "                smallest=right\n",
    "    if smallest!=i:\n",
    "        heapArr[smallest],heapArr[i]=heapArr[i],heapArr[smallest]\n",
    "        heapify(heapArr,smallest,n)\n",
    "\n",
    "\n",
    "def getTopKElements(arr,k):\n",
    "    heapArr=[]\n",
    "    hashMap={}\n",
    "    heapMap={}\n",
    "    i=0\n",
    "    while len(heapArr)<k and i<len(arr):\n",
    "        if arr[i] in hashMap:\n",
    "            hashMap[arr[i]].freq+=1\n",
    "        else:\n",
    "            element=Node(arr[i], 1)\n",
    "            hashMap[arr[i]]=element\n",
    "            heapArr.append(element)\n",
    "            heapMap[arr[i]]=element\n",
    "        print(f'After Reading {i}th element {arr[i]}')\n",
    "        for ele in range(min(k,len(heapArr))):\n",
    "            print(f\"{heapArr[ele].data} -> {heapArr[ele].freq}\")\n",
    "        i+=1\n",
    "\n",
    "    heapify(heapArr,0,k)\n",
    "\n",
    "    for j in range(i,len(arr)):\n",
    "        if arr[j] in hashMap:\n",
    "            hashMap[arr[j]].freq+=1\n",
    "        else:\n",
    "            element=Node(arr[j], 1)\n",
    "            hashMap[arr[j]]=element\n",
    "        if heapArr[0].freq<hashMap[arr[j]].freq and hashMap[arr[j]].data not in heapMap:\n",
    "            del heapMap[heapArr[0].data]\n",
    "            heapArr[0]=hashMap[arr[j]]\n",
    "            heapMap[hashMap[arr[j]].data]=hashMap[arr[j]]\n",
    "\n",
    "        heapify(heapArr, 0, k)\n",
    "\n",
    "        print(f'After Reading {j}th element {arr[j]}')\n",
    "        for ele in range(min(k,len(heapArr))):\n",
    "            print(f\"{heapArr[ele].data} -> {heapArr[ele].freq}\")\n",
    "\n",
    "\n",
    "\n",
    "\n",
    "if __name__ == '__main__':\n",
    "    arr=[5, 2, 1, 3, 4,6,6,6,6,7,7,7,7,4,3,1,1]\n",
    "    k=4\n",
    "    getTopKElements(arr,k)\n"
   ]
  },
  {
   "cell_type": "markdown",
   "metadata": {},
   "source": [
    "Time Complexity -> k + (n-k)logk"
   ]
  },
  {
   "cell_type": "markdown",
   "metadata": {},
   "source": [
    "# Most frequent element in an array"
   ]
  },
  {
   "cell_type": "markdown",
   "metadata": {},
   "source": [
    "Approach 1-> Hashing"
   ]
  },
  {
   "cell_type": "markdown",
   "metadata": {},
   "source": [
    "Approach 2-> Heap"
   ]
  },
  {
   "cell_type": "markdown",
   "metadata": {},
   "source": [
    "# Smallest subarray with all occurrences of a most frequent element"
   ]
  },
  {
   "cell_type": "markdown",
   "metadata": {},
   "source": [
    "Approach -> HASHING"
   ]
  },
  {
   "cell_type": "code",
   "execution_count": 4,
   "metadata": {},
   "outputs": [
    {
     "name": "stdout",
     "output_type": "stream",
     "text": [
      "[1, 1, 2, 2, 1]\n",
      "[2, 2]\n"
     ]
    }
   ],
   "source": [
    "def getMaxFrequentElement(arr,n):\n",
    "    hash={}\n",
    "    maxFrequentElement=None\n",
    "    maxFrequency=float('-infinity')\n",
    "    for i in arr:\n",
    "        if i in hash:\n",
    "            hash[i]+=1\n",
    "        else:\n",
    "            hash[i]=1\n",
    "        if hash[i]>maxFrequency:\n",
    "            maxFrequency=hash[i]\n",
    "            maxFrequentElement=i\n",
    "    return maxFrequentElement,maxFrequency\n",
    "\n",
    "def getSmallestSubarray(arr):\n",
    "    n=len(arr)\n",
    "    ele,eleCount=getMaxFrequentElement(arr,n)\n",
    "    start=0\n",
    "    end=n-1\n",
    "    for i in range(n):\n",
    "        if arr[i]==ele:\n",
    "            eleCount-=1\n",
    "        if eleCount==0:\n",
    "            end=i\n",
    "            break\n",
    "    j=0\n",
    "    while arr[j]!=ele:\n",
    "        start+=1\n",
    "        j+=1\n",
    "    return arr[start:end+1]\n",
    "\n",
    "\n",
    "if __name__ == '__main__':\n",
    "    arr=[4, 1, 1, 2, 2, 1, 3, 3]\n",
    "    print(getSmallestSubarray(arr))\n",
    "    arr=[1, 2, 2, 3, 1]\n",
    "    print(getSmallestSubarray(arr))\n"
   ]
  },
  {
   "cell_type": "markdown",
   "metadata": {},
   "source": [
    "Time Complexity O(n)"
   ]
  },
  {
   "cell_type": "markdown",
   "metadata": {},
   "source": [
    "# First element occurring k times in an array"
   ]
  },
  {
   "cell_type": "markdown",
   "metadata": {},
   "source": [
    "Approach-> Hashing"
   ]
  },
  {
   "cell_type": "code",
   "execution_count": 1,
   "metadata": {},
   "outputs": [
    {
     "name": "stdout",
     "output_type": "stream",
     "text": [
      "7\n",
      "-1\n"
     ]
    }
   ],
   "source": [
    "def getFirstOccuringElememnt(arr,k):\n",
    "    result=[float('infinity'),None]\n",
    "    hash={}\n",
    "    for i in range(len(arr)):\n",
    "        if arr[i] in hash:\n",
    "            hash[arr[i]][1]+=1\n",
    "        else:\n",
    "            hash[arr[i]]=[i,1]\n",
    "    for i in hash:\n",
    "        if hash[i][1]==k:\n",
    "            if result[0]>hash[i][0]:\n",
    "                result[0]=hash[i][0]\n",
    "                result[1]=i\n",
    "    return result[1] if result[0]!=float('infinity') else -1\n",
    "\n",
    "\n",
    "if __name__ == '__main__':\n",
    "    arr=[1, 7, 4, 3, 4, 8, 7]\n",
    "    k=2\n",
    "    print(getFirstOccuringElememnt(arr,k))\n",
    "    arr=[4, 1, 6, 1, 6, 4]\n",
    "    k=1\n",
    "    print(getFirstOccuringElememnt(arr,k))\n"
   ]
  },
  {
   "cell_type": "markdown",
   "metadata": {},
   "source": [
    "# Given an array of pairs, find all symmetric pairs in it"
   ]
  },
  {
   "cell_type": "code",
   "execution_count": 2,
   "metadata": {},
   "outputs": [
    {
     "name": "stdout",
     "output_type": "stream",
     "text": [
      "{(20, 11): True, (40, 30): True, (10, 5): True}\n",
      "[(40, 30), (10, 5)]\n"
     ]
    }
   ],
   "source": [
    "def getSymmetricPairs(arr):\n",
    "    hash={}\n",
    "    result=[]\n",
    "    for i in range(len(arr)):\n",
    "        if arr[i] in hash:\n",
    "            result.append(arr[i])\n",
    "        else:\n",
    "            hash[(arr[i][1],arr[i][0])]=True\n",
    "    print(hash)\n",
    "    return result\n",
    "\n",
    "\n",
    "if __name__ == '__main__':\n",
    "    arr=[(11,20),(30,40),(5,10),(40,30),(10,5)]\n",
    "    print(getSymmetricPairs(arr))\n"
   ]
  },
  {
   "cell_type": "code",
   "execution_count": null,
   "metadata": {},
   "outputs": [],
   "source": []
  }
 ],
 "metadata": {
  "kernelspec": {
   "display_name": "Python 3",
   "language": "python",
   "name": "python3"
  },
  "language_info": {
   "codemirror_mode": {
    "name": "ipython",
    "version": 3
   },
   "file_extension": ".py",
   "mimetype": "text/x-python",
   "name": "python",
   "nbconvert_exporter": "python",
   "pygments_lexer": "ipython3",
   "version": "3.7.6"
  }
 },
 "nbformat": 4,
 "nbformat_minor": 4
}
